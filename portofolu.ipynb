{
 "cells": [
  {
   "cell_type": "code",
   "execution_count": 1,
   "id": "6c3eaac0",
   "metadata": {},
   "outputs": [
    {
     "name": "stdout",
     "output_type": "stream",
     "text": [
      "Predicted X4: 3.483\n"
     ]
    }
   ],
   "source": [
    "import numpy as np\n",
    "\n",
    "def sigmoid(x):\n",
    "    return 1 / (1 + np.exp(-x))\n",
    "\n",
    "def tanh(x):\n",
    "    return np.tanh(x)\n",
    "\n",
    "X = [1, 2, 3]\n",
    "Wf, Wnf, bf = 0.5, 0.1, 0\n",
    "Wi, Wni, bi = 0.6, 0.2, 0\n",
    "Wc, Wnc, bc = 0.7, 0.3, 0\n",
    "Wo, Wno, bo = 0.8, 0.4, 0\n",
    "\n",
    "h_prev, c_prev = 0, 0\n",
    "\n",
    "for x_t in X:\n",
    "    f_t = sigmoid(Wf * x_t + Wnf * h_prev + bf)\n",
    "    i_t = sigmoid(Wi * x_t + Wni * h_prev + bi)\n",
    "    c_tilde = tanh(Wc * x_t + Wnc * h_prev + bc)\n",
    "    c_t = f_t * c_prev + i_t * c_tilde\n",
    "    o_t = sigmoid(Wo * x_t + Wno * h_prev + bo)\n",
    "    h_t = o_t * tanh(c_t)\n",
    "    \n",
    "    h_prev, c_prev = h_t, c_t\n",
    "\n",
    "Wy, by = 4, 0\n",
    "y_pred = Wy * h_prev + by\n",
    "\n",
    "print(f\"Predicted X4: {y_pred:.3f}\")"
   ]
  },
  {
   "cell_type": "code",
   "execution_count": null,
   "id": "c9546ef9",
   "metadata": {},
   "outputs": [],
   "source": []
  },
  {
   "cell_type": "code",
   "execution_count": null,
   "id": "b0c68dfa",
   "metadata": {},
   "outputs": [],
   "source": []
  }
 ],
 "metadata": {
  "kernelspec": {
   "display_name": "Python 3 (ipykernel)",
   "language": "python",
   "name": "python3"
  },
  "language_info": {
   "codemirror_mode": {
    "name": "ipython",
    "version": 3
   },
   "file_extension": ".py",
   "mimetype": "text/x-python",
   "name": "python",
   "nbconvert_exporter": "python",
   "pygments_lexer": "ipython3",
   "version": "3.9.7"
  }
 },
 "nbformat": 4,
 "nbformat_minor": 5
}
